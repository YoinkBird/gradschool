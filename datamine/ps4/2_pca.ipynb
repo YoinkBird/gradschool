{
 "cells": [
  {
   "cell_type": "code",
   "execution_count": null,
   "metadata": {
    "collapsed": false,
    "scrolled": false
   },
   "outputs": [],
   "source": [
    "import matplotlib.pyplot as plt\n",
    "import seaborn as sns\n",
    "import pandas as pd\n",
    "import numpy as np\n",
    "import scipy.misc\n",
    "from mpl_toolkits.mplot3d import Axes3D\n",
    "%matplotlib inline"
   ]
  },
  {
   "cell_type": "code",
   "execution_count": null,
   "metadata": {
    "collapsed": false
   },
   "outputs": [],
   "source": [
    "\n",
    "\n",
    "def generate_samples(numsamples, mean, cov):\n",
    "  samples = [np.random.multivariate_normal(mean,cov) for i in range(numsamples)]\n",
    "\n",
    "  df = pd.DataFrame(samples)\n",
    "  print(\"covariance of sample\")\n",
    "  print(np.cov(df.T))\n",
    "  return df\n",
    "\n",
    "# label 2\n",
    "l1_samples = 20\n",
    "l1_mean = (0,0,0)\n",
    "l1_cov = [\n",
    "   #X1, X2, X3\n",
    "    [0.5,  0,  0],   #X1\n",
    "    [0,  0.5,  0],   #X2\n",
    "    [0,  0,  0.7]    #X3\n",
    "]\n",
    "l1_cov = np.diag([0.5,0.5,0.7])\n",
    "\n",
    "# label 1\n",
    "l2_samples = 20\n",
    "l2_samples = l1_samples\n",
    "l2_mean = (1,1,1)\n",
    "l2_cov = [\n",
    "   #X1, X2, X3\n",
    "    [0.5,  0,  0],   #X1\n",
    "    [0,  0.5,  0],   #X2\n",
    "    [0,  0,  0.1]    #X3\n",
    "]\n",
    "l2_cov = np.diag([0.5,0.5,0.1])\n",
    "\n",
    "print(l1_cov)\n",
    "print(l2_cov)\n",
    "l1_points = generate_samples(l1_samples, l1_mean, l1_cov)\n",
    "l2_points = generate_samples(l2_samples, l2_mean, l2_cov)\n",
    "\n",
    "print(\"\"\"\n",
    "1. Create a three dimensional plot of the clouds of data points, labeled with the two labels.\n",
    "\"\"\")\n",
    "# start: http://matplotlib.org/mpl_toolkits/mplot3d/tutorial.html#scatter-plots\n",
    "# legend: http://stackoverflow.com/questions/4270301/matplotlib-multiple-datasets-on-the-same-scatter-plot\n",
    "\n",
    "fig = plt.figure()\n",
    "ax = fig.add_subplot(111, projection='3d')\n",
    "ax.scatter3D(l1_points[0],l1_points[1],l1_points[2],c='b',marker='o', label='l1')\n",
    "#ax2 = fig.add_subplot(111, projection='3d')\n",
    "ax.scatter3D(l2_points[0],l2_points[1],l2_points[2],c='r',marker='^', label='l2')\n",
    "\n",
    "ax.set_xlabel('x label')\n",
    "ax.set_ylabel('y label')\n",
    "ax.set_zlabel('z label')\n",
    "\n",
    "# try to label it\n",
    "#nope# ax.annotate(\"l1\",(0,0))\n",
    "plt.legend(loc='upper left')\n",
    "#############\n",
    "#fig, axes = plt.subplots(ncols=2)\n",
    "#ax0,ax1 = axes.flat\n",
    "#ax0.scatter(l1_points)\n",
    "#ax1.scatter(l2_points)\n",
    "\n",
    "plt.show()\n"
   ]
  },
  {
   "cell_type": "code",
   "execution_count": null,
   "metadata": {
    "collapsed": false,
    "scrolled": true
   },
   "outputs": [],
   "source": [
    "print(\"\"\"\n",
    "2. What do the points look like?\n",
    "\"\"\")"
   ]
  },
  {
   "cell_type": "code",
   "execution_count": null,
   "metadata": {
    "collapsed": true
   },
   "outputs": [],
   "source": [
    "def plot3d(df):\n",
    "    fig = plt.figure()\n",
    "    ax = fig.add_subplot(111, projection='3d')\n",
    "    ax.scatter3D(df[0],df[1],df[2],c='b',marker='o', label='l1')\n",
    "\n",
    "    ax.set_xlabel('x label')\n",
    "    ax.set_ylabel('y label')\n",
    "    ax.set_zlabel('z label')\n",
    "\n",
    "    plt.show()"
   ]
  },
  {
   "cell_type": "code",
   "execution_count": null,
   "metadata": {
    "collapsed": false
   },
   "outputs": [],
   "source": [
    "print(\"\"\"\n",
    "3. Concatenate all the points and ignore the labels for now.\n",
    "You have created an X matrix with 40 data points in d = 3 dimensions.\n",
    "Find the covariance matrix of this dataset.\n",
    "\"\"\")\n",
    "all_points = l1_points.append(l2_points)\n",
    "print(np.cov(all_points.T))\n",
    "\n",
    "plot3d(all_points)"
   ]
  },
  {
   "cell_type": "code",
   "execution_count": null,
   "metadata": {
    "collapsed": true
   },
   "outputs": [],
   "source": [
    "print(\"\"\"\n",
    "Let’s do PCA on this dataset using k = 2 dimensions:\n",
    "Find the two eigenvectors of the covariance matrix with the largest eigenvalues.\n",
    "Project the data points on these two vectors and show the two dimensional plot with the clouds of points.\n",
    "Also show the labels of the points.\n",
    "Did PCA make it easier to distinguish the two labels in two dimensions?\n",
    "Again, do not simply use sklearn PCA.\n",
    "You are only allowed to use matrix operations and\n",
    "np.linalg.eig\n",
    "to find eigenvectors of a matrix.\n",
    "\n",
    "\"\"\")\n",
    "kdim = 2\n",
    "\n",
    "data = all_points\n",
    "#==== Compute Top Principal Component ===\n",
    "print(\"#== Compute C = cov(data)\")\n",
    "# z = np.vstack(data)\n",
    "c = np.cov(data.T)\n",
    "print(\"# data\")\n",
    "# print(z)\n",
    "print(\"# cov\")\n",
    "print(c)\n",
    "\n",
    "print(\"#== Compute eigenvalues, eigenvectors\")\n",
    "# src http://stackoverflow.com/a/22507211\n",
    "e_val,e_vec = np.linalg.eig(c)\n",
    "print(\"# e_val :\");print(e_val)\n",
    "print(\"# e_vec :\");print(e_vec)\n",
    "# top vectors\n",
    "import heapq\n",
    "maxvals = heapq.nlargest(2,e_val)\n",
    "# caveat: direct-indexing maxinds only works if no duplicate maxvals. otherwise, one must iterate through maxvals\n",
    "# np.where returns a tuple, not sure how it works\n",
    "# topvector 1:\n",
    "maxinds1 = np.where(e_val==maxvals[0])\n",
    "vtop1 = e_vec[:,maxinds1[0][0]]\n",
    "# topvector 2:\n",
    "maxinds2 = np.where(e_val==maxvals[1])\n",
    "vtop2 = e_vec[:,maxinds2[0][0]]\n",
    "print(\"# top vector1:\");print(vtop1)\n",
    "print(\"# top vector2:\");print(vtop2)\n",
    "\n",
    "# projection1:\n",
    "dotp1 = np.dot(data,vtop1)\n",
    "proj1 = np.outer(dotp1,vtop1)\n",
    "# projection2:\n",
    "dotp2 = np.dot(data,vtop2)\n",
    "proj2 = np.outer(dotp2,vtop2)\n",
    "\n",
    "# plot\n",
    "\n",
    "fig = plt.figure()\n",
    "ax = fig.add_subplot(111, projection='3d')\n",
    "ax.scatter3D(data[0],data[1],data[2],c='b',marker='.')\n",
    "ax.scatter3D(proj1[0],proj1[1],proj1[2],c='r',marker='o', label='k1')\n",
    "ax.scatter3D(proj2[0],proj2[1],proj2[2],c='g',marker='x', label='k2')\n",
    "ax.plot3D(proj1[0],proj1[1],proj1[2],c='r',marker='o', label='k1')\n",
    "ax.plot3D(proj2[0],proj2[1],proj2[2],c='g',marker='x', label='k2')\n",
    "\n",
    "ax.set_xlabel('x label')\n",
    "ax.set_ylabel('y label')\n",
    "ax.set_zlabel('z label')\n",
    "\n",
    "plt.show()"
   ]
  },
  {
   "cell_type": "code",
   "execution_count": null,
   "metadata": {
    "collapsed": false
   },
   "outputs": [],
   "source": [
    "print(\"\"\"\n",
    "Reference: sklearn PCA of k=2 dim\n",
    "\"\"\")\n",
    "kdim = 2\n",
    "import numpy as np\n",
    "from sklearn.decomposition import PCA\n",
    "pca = PCA(n_components = kdim)\n",
    "pca.fit(all_points)\n",
    "print(pca.explained_variance_ratio_)"
   ]
  },
  {
   "cell_type": "code",
   "execution_count": null,
   "metadata": {
    "collapsed": true
   },
   "outputs": [],
   "source": []
  }
 ],
 "metadata": {
  "kernelspec": {
   "display_name": "Python 3",
   "language": "python",
   "name": "python3"
  },
  "language_info": {
   "codemirror_mode": {
    "name": "ipython",
    "version": 3
   },
   "file_extension": ".py",
   "mimetype": "text/x-python",
   "name": "python",
   "nbconvert_exporter": "python",
   "pygments_lexer": "ipython3",
   "version": "3.5.2+"
  }
 },
 "nbformat": 4,
 "nbformat_minor": 2
}
