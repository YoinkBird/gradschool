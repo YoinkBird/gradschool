{
 "cells": [
  {
   "cell_type": "code",
   "execution_count": null,
   "metadata": {
    "collapsed": false
   },
   "outputs": [],
   "source": [
    "import pandas as pd\n",
    "import numpy as np\n",
    "import matplotlib.pyplot as plt\n",
    "\n",
    "# generate 200 points\n",
    "# src http://stackoverflow.com/a/15451997\n",
    "#number of points\n",
    "numpoints=200\n",
    "\n",
    "# data = numpy.random.random((numpoints,numpoints))\n",
    "\n",
    "# https://docs.scipy.org/doc/numpy-1.10.0/reference/generated/numpy.random.multivariate_normal.html\n",
    "mean = (0, 0)\n",
    "cov = [[1, 0], [0, 5]]\n",
    "#data = np.random.multivariate_normal(mean, cov, (3, 3))\n",
    "data = np.random.multivariate_normal(mean, cov, numpoints)\n",
    "#print(data)\n",
    "matr = np.matrix(data)\n",
    "print(type(matr))\n",
    "\n",
    "# print(data.shape)\n",
    "\n",
    "#print(data)\n",
    "# http://stackoverflow.com/a/12273032\n",
    "# np.linalg.svd(data)\n",
    "\n",
    "#==== Compute Top Principal Component ===\n",
    "print(\"#== Compute C = cov(data)\")\n",
    "# z = np.vstack(data)\n",
    "c = np.cov(data.T)\n",
    "print(\"# data\")\n",
    "# print(z)\n",
    "print(\"# cov\")\n",
    "print(c)\n",
    "\n",
    "print(\"#== Compute eigenvalues, eigenvectors\")\n",
    "# src http://stackoverflow.com/a/22507211\n",
    "e_val,e_vec = np.linalg.eig(c)\n",
    "print(\"# e_val :\");print(e_val)\n",
    "print(\"# e_vec :\");print(e_vec)\n",
    "vtop=e_vec[-1]\n",
    "print(vtop)\n",
    "dotprod = (np.dot(data,vtop))\n",
    "print(type(dotprod))\n",
    "plt.scatter(dotprod[0],dotprod[1])\n"
   ]
  },
  {
   "cell_type": "code",
   "execution_count": null,
   "metadata": {
    "collapsed": true
   },
   "outputs": [],
   "source": []
  }
 ],
 "metadata": {
  "kernelspec": {
   "display_name": "Python 3",
   "language": "python",
   "name": "python3"
  },
  "language_info": {
   "codemirror_mode": {
    "name": "ipython",
    "version": 3
   },
   "file_extension": ".py",
   "mimetype": "text/x-python",
   "name": "python",
   "nbconvert_exporter": "python",
   "pygments_lexer": "ipython3",
   "version": "3.5.2"
  }
 },
 "nbformat": 4,
 "nbformat_minor": 2
}
