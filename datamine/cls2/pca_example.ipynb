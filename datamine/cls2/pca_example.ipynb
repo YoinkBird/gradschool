{
 "cells": [
  {
   "cell_type": "code",
   "execution_count": null,
   "metadata": {
    "collapsed": false
   },
   "outputs": [],
   "source": [
    "import pandas as pd\n",
    "import numpy as np\n",
    "import matplotlib.pyplot as plt\n",
    "%matplotlib inline"
   ]
  },
  {
   "cell_type": "code",
   "execution_count": null,
   "metadata": {
    "collapsed": false
   },
   "outputs": [],
   "source": [
    "\n",
    "# generate 200 points\n",
    "numpoints=200\n",
    "\n",
    "# https://docs.scipy.org/doc/numpy-1.10.0/reference/generated/numpy.random.multivariate_normal.html\n",
    "mean = (0, 0)\n",
    "cov = [[1, 0], [0, 5]]\n",
    "data = np.random.multivariate_normal(mean, cov, numpoints)\n",
    "# print(data.shape)\n",
    "\n",
    "# caveat: use \"eig\" only for learning purposes!\n",
    "# otherwise, use: np.linalg.svd(data)\n",
    "# src: http://stackoverflow.com/a/14263875\n",
    "\n",
    "#==== Compute Top Principal Component ===\n",
    "print(\"#== Compute C = cov(data)\")\n",
    "# z = np.vstack(data)\n",
    "c = np.cov(data.T)\n",
    "print(\"# data\")\n",
    "# print(z)\n",
    "print(\"# cov\")\n",
    "print(c)\n",
    "\n",
    "print(\"#== Compute eigenvalues, eigenvectors\")\n",
    "# ... but why? http://math.stackexchange.com/a/29230\n",
    "# https://docs.scipy.org/doc/numpy/reference/generated/numpy.linalg.eig.html\n",
    "# the column v[:,i] is the eigenvector corresponding to the eigenvalue w[i]\n",
    "e_val,e_vec = np.linalg.eig(c)\n",
    "print(\"# e_val :\");print(e_val)\n",
    "print(\"# e_vec :\");print(e_vec)\n",
    "# get largest vector - src: http://stackoverflow.com/a/432289\n",
    "maxvals = np.where(e_val == max(e_val))\n",
    "vtop=e_vec[:,maxvals[0][0]]\n",
    "print(vtop)\n",
    "\n",
    "dotprod = (np.dot(data,vtop))\n",
    "# https://docs.scipy.org/doc/numpy/reference/generated/numpy.outer.html\n",
    "# outer product of two vectors results in matrix, same as matrix multiplication: u*v_transpose\n",
    "# https://en.wikipedia.org/wiki/Outer_product:  w = u (x) v \n",
    "project = np.outer(dotprod,vtop)\n",
    "plt.scatter(project[:,0],project[:,1],c='r')\n",
    "plt.scatter(data[:,0],data[:,1])\n",
    "plt.show()"
   ]
  },
  {
   "cell_type": "code",
   "execution_count": null,
   "metadata": {
    "collapsed": true
   },
   "outputs": [],
   "source": []
  }
 ],
 "metadata": {
  "kernelspec": {
   "display_name": "Python 3",
   "language": "python",
   "name": "python3"
  },
  "language_info": {
   "codemirror_mode": {
    "name": "ipython",
    "version": 3
   },
   "file_extension": ".py",
   "mimetype": "text/x-python",
   "name": "python",
   "nbconvert_exporter": "python",
   "pygments_lexer": "ipython3",
   "version": "3.5.2"
  }
 },
 "nbformat": 4,
 "nbformat_minor": 2
}
