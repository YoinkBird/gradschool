{
 "cells": [
  {
   "cell_type": "code",
   "execution_count": null,
   "metadata": {
    "collapsed": true
   },
   "outputs": [],
   "source": [
    "import numpy as np\n",
    "import matplotlib.pyplot as plt\n",
    "import pandas as pd\n",
    "import seaborn as sns"
   ]
  },
  {
   "cell_type": "code",
   "execution_count": null,
   "metadata": {
    "collapsed": false
   },
   "outputs": [],
   "source": [
    "data = pd.read_csv(\"files_pset2/HW2/DF1\", index_col=0)\n",
    "\n",
    "# pairwise plot\n",
    "grid = sns.pairplot(data)\n",
    "sns.plt.suptitle(\"HW2 DF1 pairwise figure\")\n",
    "sns.plt.show()"
   ]
  },
  {
   "cell_type": "code",
   "execution_count": null,
   "metadata": {
    "collapsed": false
   },
   "outputs": [],
   "source": [
    "# Compute the covariance matrix of the data.\n",
    "np.cov(data.T)\n",
    "# diagonal top-left to bottom-right is basically '1' -> identity\n",
    "# diagonal bottom-left to top-right is basically '0', plots are uncorrelated\n",
    "# strong + correlation: {3,1} {1,3} matches graphs\n",
    "# strong - correlation: {2,3} {3,2} matches graphs\n",
    "# summary for all others: '0' in cov matrix corresponds to scatterplot -> uncorrelated"
   ]
  },
  {
   "cell_type": "code",
   "execution_count": null,
   "metadata": {
    "collapsed": false,
    "scrolled": false
   },
   "outputs": [],
   "source": [
    "# Generate a zero-mean multivariate Gaussian random variable in 3 dimensions, \n",
    "# Z = (X1; X2; X3) \n",
    "#  so that (X1; X2) and (X1; X3) are uncorrelated, \n",
    "# but (X2; X3) are correlated.\n",
    "\n",
    "mean = (0,0,0)\n",
    "cov = [\n",
    "   #X1, X2, X3\n",
    "    [1,  0,  0],   #X1\n",
    "    [0,  1,  1],   #X2\n",
    "    [0,  1,  1]    #X3\n",
    "]\n",
    "\n",
    "print(cov)\n",
    "print(\"\"\"\n",
    "# generate samples from this Gaussian\n",
    "\"\"\")\n",
    "numsamples = 5\n",
    "def generate_samples(numsamples):\n",
    "    samples = [np.random.multivariate_normal(mean,cov) for i in range(numsamples)]\n",
    "    # print(samples)\n",
    "\n",
    "    print(\"\"\"\n",
    "    # plot non-zero cov terms vs the estimated covariance term\n",
    "    \"\"\")\n",
    "    df = pd.DataFrame(samples)\n",
    "    print(\"covariance of sample\")\n",
    "    print(np.cov(df.T))\n",
    "\n",
    "    grid = sns.pairplot(df)\n",
    "    sns.plt.suptitle(\"HW2 1.3 samples = %d\" % numsamples)\n",
    "    sns.plt.show()\n",
    "\n",
    "generate_samples(5)\n",
    "generate_samples(30)\n",
    "generate_samples(100)\n",
    "generate_samples(10000)"
   ]
  },
  {
   "cell_type": "code",
   "execution_count": null,
   "metadata": {
    "collapsed": true,
    "scrolled": true
   },
   "outputs": [],
   "source": []
  }
 ],
 "metadata": {
  "kernelspec": {
   "display_name": "Python 3",
   "language": "python",
   "name": "python3"
  },
  "language_info": {
   "codemirror_mode": {
    "name": "ipython",
    "version": 3
   },
   "file_extension": ".py",
   "mimetype": "text/x-python",
   "name": "python",
   "nbconvert_exporter": "python",
   "pygments_lexer": "ipython3",
   "version": "3.5.2"
  }
 },
 "nbformat": 4,
 "nbformat_minor": 2
}
