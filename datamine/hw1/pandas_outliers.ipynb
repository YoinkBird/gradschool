{
 "cells": [
  {
   "cell_type": "code",
   "execution_count": null,
   "metadata": {
    "collapsed": true,
    "scrolled": false
   },
   "outputs": [],
   "source": [
    "import numpy as np\n",
    "import matplotlib.pyplot as plt\n",
    "import pandas as pd\n",
    "import seaborn as sns\n",
    "\n",
    "%matplotlib inline"
   ]
  },
  {
   "cell_type": "code",
   "execution_count": null,
   "metadata": {
    "collapsed": false,
    "scrolled": false
   },
   "outputs": [],
   "source": [
    "df = pd.read_csv(\"files_pset2/HW2/DF2\", index_col=0)\n",
    "# make sure it imported correctly\n",
    "#print(df.head())\n",
    "#print(df.min().min())\n",
    "#df.plot.scatter(x='0',y='1')\n",
    "\n"
   ]
  },
  {
   "cell_type": "code",
   "execution_count": null,
   "metadata": {
    "collapsed": false,
    "scrolled": false
   },
   "outputs": [],
   "source": [
    "df2 = df\n",
    "# print the data\n",
    "df2.plot.scatter(x=\"0\",y=\"1\")\n",
    "#<test norm>\n",
    "# TODO: see if this applicable http://scikit-learn.org/stable/modules/preprocessing.html\n",
    "# smallest point\n",
    "print(df.min().min())\n",
    "#df2 = df.apply(lambda x: x + np.abs(df.min().min()))\n",
    "print(df2.head())\n",
    "print(df2.min().min())\n",
    "# df2.plot.scatter(x=\"0\",y=\"1\")\n",
    "#</test norm>\n",
    "##############################\n",
    "#log ineffective\n",
    "#df2 = df.apply(np.log)\n",
    "#df2['1'] = df2.apply(np.log)\n",
    "#df2['0'] = df2.apply(np.log)\n",
    "#df2.plot.scatter(x=\"0\",y=\"1\")\n",
    "##############################\n",
    "# src http://stackoverflow.com/a/23202269\n",
    "print(\"scatter plots:\")\n",
    "print(\"1: all datapoints:\")\n",
    "print(\"2: mean of datapoints:\")\n",
    "print(\"3: all datapoints < std. dev 4:\")\n",
    "print(\"4: all datapoints > std. dev 4:\")\n",
    "\n",
    "from scipy import stats\n",
    "df_mean = df[np.abs(stats.zscore(df2)) > 4]\n",
    "df_mean.plot.scatter(x=\"0\",y=\"1\")\n",
    "# std dev < 4\n",
    "df[np.abs(stats.zscore(df2)) < 4].plot.scatter(x=\"0\",y=\"1\")\n",
    "# std dev > 4\n",
    "df[np.abs(stats.zscore(df2)) > 4].plot.scatter(x=\"0\",y=\"1\")\n"
   ]
  },
  {
   "cell_type": "code",
   "execution_count": null,
   "metadata": {
    "collapsed": false,
    "scrolled": true
   },
   "outputs": [],
   "source": []
  },
  {
   "cell_type": "code",
   "execution_count": null,
   "metadata": {
    "collapsed": true,
    "scrolled": false
   },
   "outputs": [],
   "source": []
  }
 ],
 "metadata": {
  "kernelspec": {
   "display_name": "Python 3",
   "language": "python",
   "name": "python3"
  },
  "language_info": {
   "codemirror_mode": {
    "name": "ipython",
    "version": 3
   },
   "file_extension": ".py",
   "mimetype": "text/x-python",
   "name": "python",
   "nbconvert_exporter": "python",
   "pygments_lexer": "ipython3",
   "version": "3.5.2"
  }
 },
 "nbformat": 4,
 "nbformat_minor": 2
}
