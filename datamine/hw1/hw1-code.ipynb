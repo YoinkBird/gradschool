{
 "cells": [
  {
   "cell_type": "code",
   "execution_count": null,
   "metadata": {
    "collapsed": false,
    "scrolled": true
   },
   "outputs": [],
   "source": [
    "##hw1 problem 1\n",
    "import numpy as np\n",
    "import matplotlib.pyplot as plt\n",
    "\n",
    "##https://docs.scipy.org/doc/numpy/reference/generated/numpy.random.normal.html\n",
    "seed=23\n",
    "np.random.seed(seed)\n",
    "\n",
    "mu0, sigma0 = -10, 5 # mean and standard deviation\n",
    "s0 = np.random.normal(mu0, sigma0, 1000)\n",
    "plt.hist(s0, bins='auto')\n",
    "plt.title(\"hw1 figure 1\")\n",
    "\n",
    "mu1, sigma1 = 10, 5 # mean and standard deviation\n",
    "s1 = np.random.normal(mu1, sigma1, 1000)\n",
    "plt.hist(s1, bins='auto')\n",
    "plt.show()\n",
    "\n",
    "total = s0 + s1\n",
    "plt.hist(total, bins='auto')\n",
    "plt.title(\"hw1 figure 2\")\n",
    "plt.show()\n",
    "\n",
    "\n"
   ]
  },
  {
   "cell_type": "code",
   "execution_count": null,
   "metadata": {
    "collapsed": false
   },
   "outputs": [],
   "source": [
    "import numpy,pandas,matplotlib\n",
    "import numpy as np\n",
    "import matplotlib.pyplot as plt\n",
    "\n",
    "seed=23\n",
    "np.random.seed(seed)\n",
    "\"\"\"\n",
    "problem 2:\n",
    "Let Xi be an iid Bernoulli random variable with value {-1,1}.\n",
    "Look at the random variable Zn = 1/n SUM(X_i).\n",
    "By taking 1000 draws from Zn, plot its histogram.\n",
    "Check that for small n (say, 5-10) Zn does not look that much like a Gaussian,\n",
    " but when n is bigger (already by the time n = 30 or 50) it looks much more like a Gaussian.\n",
    " Check also for much bigger n: n = 250, to see that at this point, one can really see the bell curve.\n",
    "\n",
    "# \n",
    "My interpretation:\n",
    "for 1000 times, take the mean of a bernoulli dist of length n with variables -1 and 1\n",
    "\n",
    "implementation:\n",
    "loop 1000 times and\n",
    "  using \"choice\", create rv-list of n discrete random variable of values -1,1\n",
    "  add the mean of this rv-list to rv_z_list\n",
    "\n",
    "plot the histogram of rv_z_list\n",
    "\"\"\"\n",
    "\n",
    "\n",
    "# TODO: not sure ...\n",
    "def bernoulli(**kwargs):\n",
    "  samplesize=kwargs[\"samplesize\"]\n",
    "  print(\"bernoulli with size: \" + str(samplesize))\n",
    "\n",
    "  # By taking 1000 draws from Zn, plot its histogram.\n",
    "  draws = 1000\n",
    "  rv_z_list = []  # put the draws in here\n",
    "  for i in range(0,draws):\n",
    "    # random.choice([-1,1]): Let Xi be an iid Bernoulli random variable with value {-1,1}.\n",
    "    # .mean():               Look at the random variable Zn = 1/n SUM(X_i).\n",
    "    rv = np.random.choice([-1,1],size=samplesize).mean()\n",
    "    rv_z_list.append(rv)\n",
    "\n",
    "  # plot\n",
    "  plt.hist(rv_z_list, bins='auto')\n",
    "  plt.show()\n",
    "# end bernoulli\n",
    "\n",
    "\n",
    "\n",
    "\n",
    "# Check that for small n (say, 5-10) Zn does not look that much like a Gaussian,\n",
    "#  but when n is bigger (already by the time n = 30 or 50) it looks much more like a Gaussian.\n",
    "#  Check also for much bigger n: n = 250, to see that at this point, one can really see the bell curve.\n",
    "trials = [5,7,10,30,50,100,250]\n",
    "for i in range(0,len(trials)):\n",
    "    bernoulli(samplesize=trials[i])"
   ]
  },
  {
   "cell_type": "code",
   "execution_count": null,
   "metadata": {
    "collapsed": false
   },
   "outputs": [],
   "source": [
    "##hw1 problem 3\n",
    "import numpy as np\n",
    "seed=23\n",
    "np.random.seed(seed)\n",
    "\n",
    "mu0, sigma0 = 0, 5 # mean and standard deviation\n",
    "s0 = np.random.normal(mu0, sigma0, 25000)\n",
    "print(\"mean is : \" + str(np.mean(s0)))\n",
    "print(\"std is : \" + str(np.std(s0)))\n",
    "\n",
    "\n",
    "\n"
   ]
  },
  {
   "cell_type": "code",
   "execution_count": null,
   "metadata": {
    "collapsed": false
   },
   "outputs": [],
   "source": [
    "##hw1 problem 4\n",
    "import numpy as np\n",
    "seed=23\n",
    "np.random.seed(seed)\n",
    "\n",
    "\"\"\"\n",
    "Estimate the mean and covariance matrix for multi-dimensional data:\n",
    "generate 10,000 samples of 2 dimensional data from the Gaussian distribution\n",
    "Then, estimate the mean and covariance matrix for this multi-dimensional data using numpy commands.\n",
    "\"\"\"\n",
    "\n",
    "#https://docs.scipy.org/doc/numpy/reference/generated/numpy.random.multivariate_normal.html#numpy.random.multivariate_normal\n",
    "mean = (-5, 5)\n",
    "cov = [[20, .8], [.8, 30]]\n",
    "x = np.random.multivariate_normal(mean, cov, 10000)\n",
    "print(x.shape) \n",
    "np.mean(x,axis=0)\n",
    "print(\"mean for axis 0 is : \" + str(np.mean(x,axis=0)))\n",
    "\n",
    "print(\"cov for is : \" + str(np.cov(x.T)))"
   ]
  },
  {
   "cell_type": "code",
   "execution_count": null,
   "metadata": {
    "collapsed": false
   },
   "outputs": [],
   "source": [
    "##hw1 problem 5\n",
    "import numpy as np\n",
    "import matplotlib.pyplot as plt\n",
    "seed=23\n",
    "np.random.seed(seed)\n",
    "\n",
    "def hw1p2_z(prob,throws):\n",
    "    z = np.random.binomial(1, prob, throws)\n",
    "    count = 0\n",
    "    for  i in range(0,len(z)):\n",
    "        if z[i] <= .5:\n",
    "            count = count + 1\n",
    "    z = np.sum(z)/throws\n",
    "    chance = count/throws\n",
    "    return z\n",
    "    \n",
    "def hw1p2_n(n,prob,throws,title):\n",
    "    n_array = np.ones(n)\n",
    "    count = 0\n",
    "    for i in range(0,n):\n",
    "        n_array[i] = hw1p2_z(prob,throws)\n",
    "        if n_array[i] <= .5:\n",
    "            n_array[i] = 1\n",
    "            count = count + 1\n",
    "        else:\n",
    "            n_array[i] = 0\n",
    "    print(count)\n",
    "    return n_array\n",
    "    \n",
    "hw1p5 = hw1p2_n(100000,.66666,100,\"n = \" + str(10000) )\n",
    "\n",
    "print(np.mean(hw1p5))"
   ]
  },
  {
   "cell_type": "code",
   "execution_count": null,
   "metadata": {
    "collapsed": true
   },
   "outputs": [],
   "source": []
  }
 ],
 "metadata": {
  "anaconda-cloud": {},
  "kernelspec": {
   "display_name": "Python 3",
   "language": "python",
   "name": "python3"
  },
  "language_info": {
   "codemirror_mode": {
    "name": "ipython",
    "version": 3
   },
   "file_extension": ".py",
   "mimetype": "text/x-python",
   "name": "python",
   "nbconvert_exporter": "python",
   "pygments_lexer": "ipython3",
   "version": "3.5.2"
  }
 },
 "nbformat": 4,
 "nbformat_minor": 0
}
