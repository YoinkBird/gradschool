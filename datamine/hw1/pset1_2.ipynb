{
 "cells": [
  {
   "cell_type": "code",
   "execution_count": null,
   "metadata": {
    "collapsed": false
   },
   "outputs": [],
   "source": [
    "import numpy,pandas,matplotlib\n",
    "import numpy as np\n",
    "import matplotlib.pyplot as plt\n",
    "\n",
    "\"\"\"\n",
    "problem 2:\n",
    "Let Xi be an iid Bernoulli random variable with value {-1,1}.\n",
    "Look at the random variable Zn = 1/n SUM(X_i).\n",
    "By taking 1000 draws from Zn, plot its histogram.\n",
    "Check that for small n (say, 5-10) Zn does not look that much like a Gaussian,\n",
    " but when n is bigger (already by the time n = 30 or 50) it looks much more like a Gaussian.\n",
    " Check also for much bigger n: n = 250, to see that at this point, one can really see the bell curve.\n",
    "\n",
    "# \n",
    "My interpretation:\n",
    "for 1000 times, take the mean of a bernoulli dist of length n with variables -1 and 1\n",
    "\n",
    "implementation:\n",
    "loop 1000 times and\n",
    "  using \"choice\", create rv-list of n discrete random variable of values -1,1\n",
    "  add the mean of this rv-list to rv_z_list\n",
    "\n",
    "plot the histogram of rv_z_list\n",
    "\"\"\"\n",
    "\n",
    "\n",
    "# TODO: not sure ...\n",
    "def bernoulli(**kwargs):\n",
    "  samplesize=kwargs[\"samplesize\"]\n",
    "  #  print(np.random.seed)\n",
    "  print(\"bernoulli with size: \" + str(samplesize))\n",
    "\n",
    "  # By taking 1000 draws from Zn, plot its histogram.\n",
    "  draws = 1000\n",
    "  rv_z_list = []  # put the draws in here\n",
    "  for i in range(0,draws):\n",
    "    # random.choice([-1,1]): Let Xi be an iid Bernoulli random variable with value {-1,1}.\n",
    "    # .mean():               Look at the random variable Zn = 1/n SUM(X_i).\n",
    "    rv = np.random.choice([-1,1],size=samplesize).mean()\n",
    "    rv_z_list.append(rv)\n",
    "  # verify this is 1000\n",
    "  print(\"-D:\" + str(len(rv_z_list)) + \" == \" + str(draws) + \"?\")\n",
    "  #import ipdb;ipdb.set_trace()\n",
    "\n",
    "  # plot\n",
    "  plt.hist(rv_z_list, bins='auto')",
    "  plt.show()\n",
    "# end bernoulli\n",
    "\n",
    "\n",
    "seed=23\n",
    "np.random.seed(seed)\n",
    "\n",
    "# Check that for small n (say, 5-10) Zn does not look that much like a Gaussian,\n",
    "size = 10\n",
    "bernoulli(samplesize=size)\n",
    "#  but when n is bigger (already by the time n = 30 or 50) it looks much more like a Gaussian.\n",
    "size = 30\n",
    "bernoulli(samplesize=size)\n",
    "#  Check also for much bigger n: n = 250, to see that at this point, one can really see the bell curve.\n",
    "\n",
    "trials = [5,7,10,30,50,100,250]\n",
    "for i in range(0,len(trials)):\n",
    "    bernoulli(samplesize=trials)"
   ]
  },
  {
   "cell_type": "code",
   "execution_count": null,
   "metadata": {
    "collapsed": true
   },
   "outputs": [],
   "source": []
  }
 ],
 "metadata": {
  "kernelspec": {
   "display_name": "Python 3",
   "language": "python",
   "name": "python3"
  },
  "language_info": {
   "codemirror_mode": {
    "name": "ipython",
    "version": 3
   },
   "file_extension": ".py",
   "mimetype": "text/x-python",
   "name": "python",
   "nbconvert_exporter": "python",
   "pygments_lexer": "ipython3",
   "version": "3.5.2"
  }
 },
 "nbformat": 4,
 "nbformat_minor": 2
}
